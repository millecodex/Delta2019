{
 "cells": [
  {
   "cell_type": "markdown",
   "metadata": {},
   "source": [
    "# Practical 1: Create a block from scratch using Python"
   ]
  },
  {
   "cell_type": "markdown",
   "metadata": {},
   "source": [
    "This jupyter notebook can be downloaded and run locally with anaconda. Jupyter and anaconda should be installed in all AUT engineering and computer science labs. The benefit of using jupyter is that code snippets can be run live (python is running in the background).\n",
    "\n",
    "A static version can be found on github at https://github.com/millecodex/COMP842/. All code can be copied and pasted into your favourite text editior or IDE and *might* run with Python 3.x.\n",
    "\n",
    "You are encouraged to use any programming language you feel comfortable with, this is simply an example using python (and jupyter is designed for python demonstrations). AUT lab computers also have a java interpreter (and maybe a C++?) installed."
   ]
  },
  {
   "cell_type": "code",
   "execution_count": 1,
   "metadata": {},
   "outputs": [],
   "source": [
    "# the hash library has many built-in hash functions such as SHA-1 and MD5\n",
    "import hashlib as hash"
   ]
  },
  {
   "cell_type": "markdown",
   "metadata": {},
   "source": [
    "Our block of data will contain many fields such as:<br>\n",
    " - identifier\n",
    " - time\n",
    " - previous hash\n",
    " - merkle root\n",
    " - list of transactions\n",
    "These can be stored in a python dictionary which is a key-value structure\n",
    "\n",
    "`dict = {key_1:value_1,\n",
    "         key_2:value_2,\n",
    "        .\n",
    "        .\n",
    "        .\n",
    "        key_n:value_n   \n",
    "}`"
   ]
  },
  {
   "cell_type": "markdown",
   "metadata": {},
   "source": [
    "## Initialize a new block. This one will be the _genesis_ block"
   ]
  },
  {
   "cell_type": "code",
   "execution_count": 2,
   "metadata": {},
   "outputs": [
    {
     "name": "stdout",
     "output_type": "stream",
     "text": [
      "{'height': 1, 'time': 0, 'prevHash': 'this is the genesis block', 'merkleRoot': '', 'transactions': []}\n"
     ]
    }
   ],
   "source": [
    "# initialize a block. Note 'transactions' is initialized as an empty list\n",
    "block = {\n",
    "    'height':1,\n",
    "    'time':0,\n",
    "    'prevHash':'this is the genesis block',\n",
    "    'merkleRoot': '',\n",
    "    'transactions': []\n",
    "        }\n",
    "print(block)"
   ]
  },
  {
   "cell_type": "markdown",
   "metadata": {},
   "source": [
    "## Create a transaction and hash it"
   ]
  },
  {
   "cell_type": "markdown",
   "metadata": {},
   "source": [
    "Let's create a transaction to store in our blockchain. Remember a transaction is just data; this can be anything represented as a digital object."
   ]
  },
  {
   "cell_type": "code",
   "execution_count": 3,
   "metadata": {},
   "outputs": [
    {
     "name": "stdout",
     "output_type": "stream",
     "text": [
      "Pay $1,000,000 to Jeff\n"
     ]
    }
   ],
   "source": [
    "# create a transaction (string)\n",
    "transaction='Pay $1,000,000 to Jeff'\n",
    "print(transaction)"
   ]
  },
  {
   "cell_type": "markdown",
   "metadata": {},
   "source": [
    "To store the transaction object, we will hash it to create a unique identifier of the information"
   ]
  },
  {
   "cell_type": "code",
   "execution_count": 4,
   "metadata": {
    "scrolled": true
   },
   "outputs": [],
   "source": [
    "#hashed_tx = hash.sha1(transaction)\n",
    "#print(hashed_tx)"
   ]
  },
  {
   "cell_type": "markdown",
   "metadata": {},
   "source": [
    "```p\n",
    "---------------------------------------------------------------------------\n",
    "TypeError                                 Traceback (most recent call last)\n",
    "<ipython-input-34-6b646aa88a56> in <module>\n",
    "----> 1 hashed_tx = hash.sha1(transaction)\n",
    "      2 print(hashed_tx)\n",
    "\n",
    "TypeError: Unicode-objects must be encoded before hashing\n",
    "```"
   ]
  },
  {
   "cell_type": "markdown",
   "metadata": {},
   "source": [
    "The error message above is telling us that we cannot hash a string object such as 'Pay $1,000,000 to Jeff'. (Why not?)\n",
    "First is must be encoded."
   ]
  },
  {
   "cell_type": "code",
   "execution_count": 5,
   "metadata": {},
   "outputs": [
    {
     "name": "stdout",
     "output_type": "stream",
     "text": [
      "b'Pay $1,000,000 to Jeff'\n"
     ]
    }
   ],
   "source": [
    "encoded_tx = transaction.encode()\n",
    "print(encoded_tx)"
   ]
  },
  {
   "cell_type": "markdown",
   "metadata": {},
   "source": [
    "the 'b' is telling us that the string is now a byte object"
   ]
  },
  {
   "cell_type": "code",
   "execution_count": 6,
   "metadata": {},
   "outputs": [
    {
     "name": "stdout",
     "output_type": "stream",
     "text": [
      "<sha1 HASH object @ 0x000002A2D4A73B20>\n"
     ]
    }
   ],
   "source": [
    "hashed_tx = hash.sha1(encoded_tx)\n",
    "print(hashed_tx)"
   ]
  },
  {
   "cell_type": "markdown",
   "metadata": {},
   "source": [
    "This shows a SHA-1 hash object at the specified memory address. Unfortuantely this isn't human-readable and we can't copy and paste it for verification elsewhere.\n",
    "\n",
    "The `digest()` and `hexdigest()` methods will output byte objects and hex strings respectively."
   ]
  },
  {
   "cell_type": "code",
   "execution_count": 7,
   "metadata": {},
   "outputs": [
    {
     "name": "stdout",
     "output_type": "stream",
     "text": [
      "b'\\xbd\\xda`\\xde\\x96+k\\xec\\x1b\\x7f\\x05\\xd4\\x8c\\xe3\\x8f\\xdb%\\xbf\\xf2\\x1d'\n",
      "bdda60de962b6bec1b7f05d48ce38fdb25bff21d\n"
     ]
    }
   ],
   "source": [
    "print(hashed_tx.digest())\n",
    "print(hashed_tx.hexdigest())"
   ]
  },
  {
   "cell_type": "markdown",
   "metadata": {},
   "source": [
    "## Add the transaction to the block"
   ]
  },
  {
   "cell_type": "code",
   "execution_count": 8,
   "metadata": {},
   "outputs": [
    {
     "name": "stdout",
     "output_type": "stream",
     "text": [
      "{'height': 1, 'time': 0, 'prevHash': 'this is the genesis block', 'merkleRoot': '', 'transactions': ['bdda60de962b6bec1b7f05d48ce38fdb25bff21d']}\n"
     ]
    }
   ],
   "source": [
    "hex_tx = hashed_tx.hexdigest()\n",
    "block[\"transactions\"].append(hex_tx)\n",
    "print(block)"
   ]
  },
  {
   "cell_type": "markdown",
   "metadata": {},
   "source": [
    "## Create a new block and append it to the chain"
   ]
  },
  {
   "cell_type": "markdown",
   "metadata": {},
   "source": [
    "This block only has a single transaction (perhaps its the block reward to Jeff ;) Now we will create a new block and append it to the chain. The block is created in the same manner, except we must update the prevHash field with the hash of the genesis block. This will ensure the state of the blockchain is preserved moving forward."
   ]
  },
  {
   "cell_type": "code",
   "execution_count": 9,
   "metadata": {},
   "outputs": [
    {
     "name": "stdout",
     "output_type": "stream",
     "text": [
      "{'height': 2, 'time': 1, 'prevHash': 'null', 'merkleRoot': '9726fd28f4baeeef320445819ce41b02ca756e19', 'transactions': ['9726fd28f4baeeef320445819ce41b02ca756e19']}\n"
     ]
    }
   ],
   "source": [
    "# some attributes have been hard-coded for simplicity\n",
    "block2 = {\n",
    "    'height':2,\n",
    "    'time':1,\n",
    "    'prevHash':'null',\n",
    "    'merkleRoot': 'null',\n",
    "    'transactions': []\n",
    "        }\n",
    "# create a transaction and add it to the block\n",
    "tx = hash.sha1('Alice +10'.encode()).hexdigest()\n",
    "block2[\"transactions\"].append(tx)\n",
    "block2[\"merkleRoot\"] = tx\n",
    "print(block2)"
   ]
  },
  {
   "cell_type": "markdown",
   "metadata": {},
   "source": [
    "The only thing left is to link the blocks. For this we need to hash the entire genesis block object. Proceeding as before:"
   ]
  },
  {
   "cell_type": "code",
   "execution_count": 10,
   "metadata": {},
   "outputs": [
    {
     "ename": "AttributeError",
     "evalue": "'dict' object has no attribute 'encode'",
     "output_type": "error",
     "traceback": [
      "\u001b[1;31m---------------------------------------------------------------------------\u001b[0m",
      "\u001b[1;31mAttributeError\u001b[0m                            Traceback (most recent call last)",
      "\u001b[1;32m<ipython-input-10-a0213c14a390>\u001b[0m in \u001b[0;36m<module>\u001b[1;34m\u001b[0m\n\u001b[1;32m----> 1\u001b[1;33m \u001b[0mhash_block_1\u001b[0m \u001b[1;33m=\u001b[0m \u001b[0mhash\u001b[0m\u001b[1;33m.\u001b[0m\u001b[0msha1\u001b[0m\u001b[1;33m(\u001b[0m\u001b[0mblock\u001b[0m\u001b[1;33m.\u001b[0m\u001b[0mencode\u001b[0m\u001b[1;33m(\u001b[0m\u001b[1;33m)\u001b[0m\u001b[1;33m)\u001b[0m\u001b[1;33m\u001b[0m\u001b[1;33m\u001b[0m\u001b[0m\n\u001b[0m",
      "\u001b[1;31mAttributeError\u001b[0m: 'dict' object has no attribute 'encode'"
     ]
    }
   ],
   "source": [
    "hash_block_1 = hash.sha1(block.encode())"
   ]
  },
  {
   "cell_type": "markdown",
   "metadata": {},
   "source": [
    "This is a uniquely python error. We need to convert the block (dictionary) into a byte object. To do this we need to use the pickle functionality that is built in. You may know this as serialization. Once pickled, we can hash and store as a hex digest."
   ]
  },
  {
   "cell_type": "code",
   "execution_count": 11,
   "metadata": {},
   "outputs": [
    {
     "name": "stdout",
     "output_type": "stream",
     "text": [
      "b'\\x80\\x03}q\\x00(X\\x06\\x00\\x00\\x00heightq\\x01K\\x01X\\x04\\x00\\x00\\x00timeq\\x02K\\x00X\\x08\\x00\\x00\\x00prevHashq\\x03X\\x19\\x00\\x00\\x00this is the genesis blockq\\x04X\\n\\x00\\x00\\x00merkleRootq\\x05X\\x00\\x00\\x00\\x00q\\x06X\\x0c\\x00\\x00\\x00transactionsq\\x07]q\\x08X(\\x00\\x00\\x00bdda60de962b6bec1b7f05d48ce38fdb25bff21dq\\tau.'\n",
      "\n",
      "\n",
      "94c058271f08c4597a8ef04771b81793619b7d6e\n"
     ]
    }
   ],
   "source": [
    "import pickle\n",
    "# convert to a byte object\n",
    "byte_genesis = pickle.dumps(block)\n",
    "print(byte_genesis)\n",
    "\n",
    "# compress to a human-readable SHA-1 digest\n",
    "hash_genesis = hash.sha1(byte_genesis).hexdigest()\n",
    "print('\\n')\n",
    "print(hash_genesis)"
   ]
  },
  {
   "cell_type": "markdown",
   "metadata": {},
   "source": [
    "The byte_genesis output is much longer than our previous byte outputs. Hashing is advantageous because the output is always a fixed length.\n",
    "\n",
    "Set the prevHash pointer in block2 to the hash of the genesis block."
   ]
  },
  {
   "cell_type": "code",
   "execution_count": 12,
   "metadata": {},
   "outputs": [
    {
     "name": "stdout",
     "output_type": "stream",
     "text": [
      "height: 2\n",
      "time: 1\n",
      "prevHash: 94c058271f08c4597a8ef04771b81793619b7d6e\n",
      "merkleRoot: 9726fd28f4baeeef320445819ce41b02ca756e19\n",
      "transactions: ['9726fd28f4baeeef320445819ce41b02ca756e19']\n"
     ]
    }
   ],
   "source": [
    "# set the prevHash and print the block\n",
    "block2[\"prevHash\"] = hash_genesis\n",
    "for key, value in block2.items():\n",
    "    print(key+': '+str(value)) "
   ]
  },
  {
   "cell_type": "markdown",
   "metadata": {},
   "source": [
    "# Modify a transaction to attack the chain"
   ]
  },
  {
   "cell_type": "markdown",
   "metadata": {},
   "source": [
    "A hash produces randomized output without any discernable patter relating to the original data. Let test this by modifying the transaction in the genesis block, rehashing, and comparing to the prevHash pointer in block2."
   ]
  },
  {
   "cell_type": "code",
   "execution_count": 13,
   "metadata": {},
   "outputs": [
    {
     "name": "stdout",
     "output_type": "stream",
     "text": [
      "Your chain has been attacked!!\n"
     ]
    }
   ],
   "source": [
    "# changing a single transaction modifies the block hash and will invalidate the entire chain\n",
    "#\n",
    "# change the dollar sign to a negative sign in the original transaction\n",
    "new_transaction = 'Pay -1,000,000 to Jeff'\n",
    "hashed_new_tx=hash.sha1(new_transaction.encode()).hexdigest()\n",
    "# update the block with the new tx\n",
    "block[\"transactions\"][0]=hashed_new_tx\n",
    "\n",
    "# hash the updated block\n",
    "import pickle\n",
    "byte_genesis_new = pickle.dumps(block)\n",
    "hash_genesis = hash.sha1(byte_genesis_new).hexdigest()\n",
    "\n",
    "# compare hashes\n",
    "if block2[\"prevHash\"] != hash_genesis:\n",
    "    print('Your chain has been attacked!!')"
   ]
  },
  {
   "cell_type": "markdown",
   "metadata": {},
   "source": [
    "## Summary"
   ]
  },
  {
   "cell_type": "markdown",
   "metadata": {},
   "source": [
    "In this tutorial we have:<br>\n",
    " - created a block structure including a list of transactions (data)\n",
    " - hashed the transaction and added it to the block\n",
    " - hashed the entire block\n",
    " - added a new block \n",
    " - linked the two blocks with a previous hash field to create a block chain\n",
    " \n",
    "What we have __not__ done is:<br>\n",
    " - use a merkle tree to store the transactions\n",
    " - store the merkle root in our block structure\n",
    " \n",
    "Python libraries that this code depends on:\n",
    " - __[hashlib](https://docs.python.org/3/library/hashlib.html)__\n",
    " - __[pickle](https://docs.python.org/3/library/pickle.html)__"
   ]
  },
  {
   "cell_type": "markdown",
   "metadata": {},
   "source": [
    "## Exercise"
   ]
  },
  {
   "cell_type": "markdown",
   "metadata": {},
   "source": [
    "Create a merkle root of the transactions from bitcon block 566446. A \\*.csv file can be downloaded from blackboard or this __[repo](https://github.com/millecodex/COMP842/blob/master/tx_list_bitcoin_566446.csv)__."
   ]
  }
 ],
 "metadata": {
  "celltoolbar": "Raw Cell Format",
  "kernelspec": {
   "display_name": "Python 3",
   "language": "python",
   "name": "python3"
  },
  "language_info": {
   "codemirror_mode": {
    "name": "ipython",
    "version": 3
   },
   "file_extension": ".py",
   "mimetype": "text/x-python",
   "name": "python",
   "nbconvert_exporter": "python",
   "pygments_lexer": "ipython3",
   "version": "3.7.1"
  }
 },
 "nbformat": 4,
 "nbformat_minor": 2
}
