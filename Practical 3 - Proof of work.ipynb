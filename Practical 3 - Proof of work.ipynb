{
 "cells": [
  {
   "cell_type": "markdown",
   "metadata": {},
   "source": [
    "# Practical 3: Proof of Work - Mining "
   ]
  },
  {
   "cell_type": "markdown",
   "metadata": {},
   "source": [
    "This jupyter notebook can be downloaded and run locally with anaconda. Jupyter and anaconda should be installed in all AUT engineering and computer science labs. The benefit of using jupyter is that code snippets can be run live (python is running in the background).\n",
    "\n",
    "A static version can be found on github at https://github.com/millecodex/COMP842/. All code can be copied and pasted into your favourite text editior or IDE and *should* run with Python 3.x.\n",
    "\n",
    "You are encouraged to use any programming language you feel comfortable with, this is simply an example using python (and jupyter is designed for python demonstrations). AUT lab computers also have a java interpreter, and visual basic. For scientific computing you may also want to consider matlab or R.\n",
    "***"
   ]
  },
  {
   "cell_type": "markdown",
   "metadata": {},
   "source": [
    "**_Proof of work_** is the unique contribution to the bitcoin protocol that achieves two aims:\n",
    "1. allows nodes to vote with their hashpower to achieve consensus\n",
    "2. keeps the network secure by aligning incentives.\n",
    "\n",
    "We have seen in tutorial #1 some of the uses of hashing with the `hashlib` library. Because a standard hash function like `sha256` is random, meaning there is no way to game the system or shortcut the output, it allows equal participation from anyone in the network. If one participant chooses to dedicate all of their computers and resources to hashing, then they are allowed more \"votes\" in the network and will receive proportionally more rewards for their effort.\n",
    "\n",
    "This whole process is referred to as _mining_ because it is analagous to gold mining.\n",
    "\n",
    "So lets get mining!"
   ]
  },
  {
   "cell_type": "markdown",
   "metadata": {},
   "source": [
    "### Prepare a block to be mined"
   ]
  },
  {
   "cell_type": "code",
   "execution_count": 1,
   "metadata": {},
   "outputs": [
    {
     "name": "stdout",
     "output_type": "stream",
     "text": [
      "b'\\x80\\x03}q\\x00(X\\t\\x00\\x00\\x00timestampq\\x01GA\\xd7$\\xfdJfA\\xe1X\\x0c\\x00\\x00\\x00transactionsq\\x02]q\\x03(X\\x01\\x00\\x00\\x00aq\\x04X\\x01\\x00\\x00\\x00bq\\x05X\\x01\\x00\\x00\\x00cq\\x06eX\\t\\x00\\x00\\x00prev_hashq\\x07X@\\x00\\x00\\x0000574faf29dbb37a3b12c2f8f5c05cf03c708313d4ad1d5d968cd2438beea104q\\x08X\\x0b\\x00\\x00\\x00merkle_rootq\\tX!\\x00\\x00\\x00aa0522a507b6499cb3512494908ac9220q\\nu.'\n"
     ]
    }
   ],
   "source": [
    "# we will need pickle to turn our block into a byte object\n",
    "# sha256 operates one byte at a time\n",
    "import hashlib\n",
    "import pickle\n",
    "\n",
    "# create a new block\n",
    "block = {   'timestamp': 1553200425.597771,\n",
    "            'transactions': ['a','b','c'],\n",
    "            'prev_hash': '00574faf29dbb37a3b12c2f8f5c05cf03c708313d4ad1d5d968cd2438beea104',\n",
    "            'merkle_root': 'aa0522a507b6499cb3512494908ac9220',\n",
    "        }\n",
    "\n",
    "# pickle the block\n",
    "pickled_block = pickle.dumps(block)\n",
    "print(pickled_block)"
   ]
  },
  {
   "cell_type": "markdown",
   "metadata": {},
   "source": [
    "This block is in byte form and can now be hashed. Lets see what it looks like."
   ]
  },
  {
   "cell_type": "code",
   "execution_count": 3,
   "metadata": {},
   "outputs": [
    {
     "name": "stdout",
     "output_type": "stream",
     "text": [
      "6c257095d5b9eac35f9f0f6503c49f54e336f79c5943d3bb12e3ba4589b7639e\n"
     ]
    }
   ],
   "source": [
    "# hash the block and output a digest of hexidecimal digits\n",
    "hashed_block = hashlib.sha256(pickled_block).hexdigest()\n",
    "print(hashed_block)"
   ]
  },
  {
   "cell_type": "markdown",
   "metadata": {},
   "source": [
    "Every time we hash this same block with sha256 we will get the same unique output. In this case repeated hashing will not change the output. \n",
    "\n",
    "Lets introduce a variable that is added to the block. This variable doesn't change the data in the block, but allows for a different hash output. It is a **number** we will use **once**, then hash, test, update, and hash again. This is called a **nonce**.\n",
    "\n",
    "This simple example shows how a nonce changes the hash:"
   ]
  },
  {
   "cell_type": "code",
   "execution_count": 5,
   "metadata": {},
   "outputs": [
    {
     "name": "stdout",
     "output_type": "stream",
     "text": [
      "0_block_hash\n",
      "1_block_hash\n",
      "2_block_hash\n",
      "3_block_hash\n",
      "4_block_hash\n",
      "5_block_hash\n",
      "6_block_hash\n",
      "7_block_hash\n",
      "8_block_hash\n",
      "9_block_hash\n",
      "10_block_hash\n",
      "11_block_hash\n",
      "12_block_hash\n",
      "13_block_hash\n",
      "14_block_hash\n",
      "15_block_hash\n"
     ]
    }
   ],
   "source": [
    "# choose 16 because a hex output has 16 digits\n",
    "for nonce in range(16):\n",
    "    print(str(nonce)+'_block_hash')"
   ]
  },
  {
   "cell_type": "markdown",
   "metadata": {},
   "source": [
    "Now output the hashed of the above strings:"
   ]
  },
  {
   "cell_type": "code",
   "execution_count": 6,
   "metadata": {},
   "outputs": [
    {
     "name": "stdout",
     "output_type": "stream",
     "text": [
      "f19542b4bfdfbad0c3d5645a01f046eb917d0ba23c4285b3b80e772c8e639b44\n",
      "ec9727e33ae1f00f13ac2f24477e343ec0fe1586790dfdd8c1da0c40bf97dbad\n",
      "0e228fa6afeaea338240378c1aaceda5d302bcf38d54d914e85893bfb7f96a39\n",
      "4c5e814ff68c5beb662af2b1d0bb36c249bf3bc7d1f87048bdf8bd8f523de5da\n",
      "3daa55e5d73e3db39294560cac88312405361940a8c82dc21cdd816ee1602cd1\n",
      "e33dd12d4bef2ae199f468aaf9f061e9225fa6ce123c08f5a278a73268645dd4\n",
      "6a49d5532ca475de8c0d0bcd04c40e19ac0317f8d5307bf6ad4335244ca70456\n",
      "e31ba32365fbb59be5bba6bcb88edf878fee4e0411566238c5a9504331f2763d\n",
      "fde106023507eb299435d62d7343cd4aec1805bb965a1492e305cd7c8e2a8b1a\n",
      "b0649b7b974aa9d6d888c8a5068604127c7686ffb2b19d36a11f8601a86c7cf7\n",
      "0ee472786259f438e2a89ddad826dafd7ea1c8c1486082dd83292f4d814ae58b\n",
      "3f73ba333475c4fc54dd2b23b4e79ea7cfbf3b36a7b8c2f4299992d035d391db\n",
      "3f21ef090c8481a1d0bbcd2458b5415333a9740b3e63bd3c6d675ce280fb6093\n",
      "a1f1a1151379c671e6f70ab1b2be404b54d8fb7bd8bcadd72855fa47ee276b35\n",
      "d68c9cc0a853050ab401bebcded574be884394de13333af075c77fb30f20ad9f\n",
      "cf7b9b326fcca7b47d1b11be224bdc1b0f7ab46073869fa82311638ac9eb33d2\n"
     ]
    }
   ],
   "source": [
    "for nonce in range(16):  \n",
    "    print(hashlib.sha256((str(nonce)+'block_hash').encode()).hexdigest())"
   ]
  },
  {
   "cell_type": "markdown",
   "metadata": {},
   "source": [
    "There should be no pattern to the hashed values above. All that was changed was the nonce. Since a hexidecial number has 16 possible digits (0-9,a-f), there should be a one-sixteenth probability that the first digit of the digest is a `0`.\n",
    "\n",
    "What is the probability that the first two digits are `00`? \n",
    "\n",
    "$P($ `00` $)=\\left(\\frac{1}{16}\\right)^2=\\frac{1}{256}=0.39\\%$\n",
    "\n",
    "$\\vdots$\n",
    "\n",
    "$P($ `0` $^n)=\\frac{1}{16^n}$\n",
    "\n",
    "As the number of zeroes increase, the probability of finding a hash with those leading zeroes goes down. If we are looking for a hash with `00` at the beginning this is called the _target difficulty_. Mining a successful block means finding a hash that is below the target value. One way to do this is to take the hash string and compare the first digit."
   ]
  },
  {
   "cell_type": "code",
   "execution_count": 7,
   "metadata": {},
   "outputs": [
    {
     "name": "stdout",
     "output_type": "stream",
     "text": [
      "f19542b4bfdfbad0c3d5645a01f046eb917d0ba23c4285b3b80e772c8e639b44\n",
      "ec9727e33ae1f00f13ac2f24477e343ec0fe1586790dfdd8c1da0c40bf97dbad\n",
      "0e228fa6afeaea338240378c1aaceda5d302bcf38d54d914e85893bfb7f96a39\n",
      "Block Found!\n"
     ]
    }
   ],
   "source": [
    "# set the number of leading zeroes\n",
    "difficulty = 1\n",
    "\n",
    "# loop through the hashes checking each one\n",
    "for nonce in range(16):  \n",
    "    hash = hashlib.sha256((str(nonce)+'block_hash').encode()).hexdigest()\n",
    "    print(str(hash))\n",
    "    \n",
    "    # check the string up to the index 'difficulty' and compare\n",
    "    # note python string manipulation: '0'*5 = 00000; this is string multiplication\n",
    "    if hash[:difficulty] == '0'*difficulty:\n",
    "        print('Block Found!')\n",
    "        break\n",
    "        \n",
    "    # end of range condition\n",
    "    if nonce == 15: print('Block not found')\n",
    "    "
   ]
  },
  {
   "cell_type": "markdown",
   "metadata": {},
   "source": [
    "Our loop breaks after three iterations because we've satisfied the condition.\n",
    "\n",
    "***\n",
    "\n",
    "Up to this point we have just been hashing a string `'_block_hash'`. Lets now use our block."
   ]
  },
  {
   "cell_type": "code",
   "execution_count": 8,
   "metadata": {},
   "outputs": [
    {
     "name": "stdout",
     "output_type": "stream",
     "text": [
      "Difficulty: 4\n",
      "Nonce: 102591\n",
      "Proof-of-work: 0000ee2830b3999eec469cc16a81f0eb6a163e84ece694803adaf3392b74804b\n"
     ]
    }
   ],
   "source": [
    "# !!caution!! - setting difficulty too high could result in waiting until the heat death of the universe to find your block\n",
    "difficulty = 4\n",
    "nonce = 1\n",
    "block_found = False\n",
    "\n",
    "# this will loop until a block is found\n",
    "while block_found == False:\n",
    "    # add a nonce value to the block, here it is prepended\n",
    "    work = hashlib.sha256(bytes(nonce) + pickled_block)\n",
    "    \n",
    "    # check to see if the hash meets the target\n",
    "    if work.hexdigest()[:difficulty] == '0'*difficulty:\n",
    "        block_found = True\n",
    "        \n",
    "        # output some data\n",
    "        print('Difficulty: ' + str(difficulty))\n",
    "        print('Nonce: ' + str(nonce))\n",
    "        print('Proof-of-work: ' + work.hexdigest())\n",
    "        \n",
    "    # update the nonce before looping\n",
    "    # this ensures the block is different before it is hashed again    \n",
    "    nonce += 1\n",
    "    \n",
    "# you may have to wait 10-20 seconds for output to appear below"
   ]
  },
  {
   "cell_type": "markdown",
   "metadata": {},
   "source": [
    "### Add a system timer for analysis"
   ]
  },
  {
   "cell_type": "markdown",
   "metadata": {},
   "source": [
    "Change the difficulty value above and compare the different outputs. Adding a timer can help with the comparison."
   ]
  },
  {
   "cell_type": "code",
   "execution_count": 9,
   "metadata": {},
   "outputs": [
    {
     "name": "stdout",
     "output_type": "stream",
     "text": [
      "Difficulty: 4\n",
      "Nonce: 102591\n",
      "Proof-of-work: 0000ee2830b3999eec469cc16a81f0eb6a163e84ece694803adaf3392b74804b\n",
      "Elapsed time: 22.482012510299683\n"
     ]
    }
   ],
   "source": [
    "difficulty = 4\n",
    "nonce = 1\n",
    "block_found = False\n",
    "\n",
    "# access the system clock and record the start time\n",
    "import time\n",
    "start = time.time()\n",
    "while block_found == False:\n",
    "    work = hashlib.sha256(bytes(nonce) + pickled_block)\n",
    "    if work.hexdigest()[:difficulty] == '0'*difficulty:\n",
    "        end = time.time()\n",
    "        block_found = True\n",
    "        print('Difficulty: ' + str(difficulty))\n",
    "        print('Nonce: ' + str(nonce))\n",
    "        print('Proof-of-work: ' + work.hexdigest())\n",
    "        \n",
    "        # calculate and print the time; this will output in seconds\n",
    "        print('Elapsed time: ' + str(end - start))\n",
    "    nonce += 1"
   ]
  },
  {
   "cell_type": "markdown",
   "metadata": {},
   "source": [
    "### Generate random blocks"
   ]
  },
  {
   "cell_type": "markdown",
   "metadata": {},
   "source": [
    "Re-running this will take similar times because we keep hashing the same block with the same nonce. In practice, once a block is found, the miners start mining the next block which contains different transactions. Introducing some random bytes into our block can help you with generating \"new\" blocks to analyse mining and difficulty performance."
   ]
  },
  {
   "cell_type": "code",
   "execution_count": 34,
   "metadata": {},
   "outputs": [
    {
     "name": "stdout",
     "output_type": "stream",
     "text": [
      "Difficulty: 4\n",
      "Nonce: 22947\n",
      "Proof-of-work: 0000f9b8371941856efe3f94f09b36bbc9580de5451ab058f04c0cb53580154a\n",
      "Elapsed time: 0.6624038219451904\n"
     ]
    }
   ],
   "source": [
    "# secrets provides access to a secure random number generator. \n",
    "# Refer to documentation for what this means. \n",
    "# Always be cautious when generating random data for important purposes like keys.\n",
    "import secrets\n",
    "# generate random data to append to a block\n",
    "random_data = secrets.token_bytes(4)\n",
    "\n",
    "difficulty = 4\n",
    "nonce = 1\n",
    "block_found = False\n",
    "start = time.time()\n",
    "while block_found == False:\n",
    "    # the block now contains 4 random bytes of data\n",
    "    work = hashlib.sha256(bytes(nonce) + pickled_block + random_data)\n",
    "    if work.hexdigest()[:difficulty] == '0'*difficulty:\n",
    "        end = time.time()\n",
    "        block_found = True\n",
    "        print('Difficulty: '+ str(difficulty))\n",
    "        print('Nonce: ' + str(nonce))\n",
    "        print('Proof-of-work: ' + work.hexdigest())\n",
    "        print('Elapsed time: ' + str(end - start))\n",
    "    nonce += 1"
   ]
  },
  {
   "cell_type": "markdown",
   "metadata": {},
   "source": [
    "These results should be fresh. Every time you run this block or access `secrets.token_bytes(4)` the block will change.\n",
    "\n",
    "Compare results I just got:\n",
    "```\n",
    "Difficulty: 4\n",
    "Nonce: 102591\n",
    "Proof-of-work: 0000ee2830b3999eec469cc16a81f0eb6a163e84ece694803adaf3392b74804b\n",
    "Elapsed time: 12.392843961715698\n",
    "\n",
    "Difficulty: 4\n",
    "Nonce: 22947\n",
    "Proof-of-work: 0000f9b8371941856efe3f94f09b36bbc9580de5451ab058f04c0cb53580154a\n",
    "Elapsed time: 0.6624038219451904\n",
    "```\n",
    "\n",
    "This shows the lottery-like nature of using hash functions and target difficulty values. The second set found a proof-of-work in 0.66 s and it took the first set 12.36 seconds!"
   ]
  },
  {
   "cell_type": "markdown",
   "metadata": {},
   "source": [
    "## Summary"
   ]
  },
  {
   "cell_type": "markdown",
   "metadata": {},
   "source": [
    "In this tutorial we have:<br>\n",
    " - added a nonce to our block\n",
    " - hashed blocks until they meet a difficulty requirement\n",
    " - started to poke around with some analysis\n",
    " \n",
    "What we have __not__ done is:<br>\n",
    " - set a target value that is not a power of 16\n",
    " - dynamically adjusted target values\n",
    " - appended mined blocks to a chain\n",
    " \n",
    "Python libraries that this code depends on:\n",
    " - __[hashlib](https://docs.python.org/3/library/hashlib.html)__\n",
    " - __[pickle](https://docs.python.org/3/library/pickle.html)__\n",
    " - __[secrets](https://docs.python.org/3/library/secrets.html)__\n",
    " - __[time](https://docs.python.org/3/library/time.html)__"
   ]
  },
  {
   "cell_type": "markdown",
   "metadata": {},
   "source": [
    "## Exercises"
   ]
  },
  {
   "cell_type": "markdown",
   "metadata": {},
   "source": [
    "1. Mining difficulty is not only represented by leading zeroes (powers of 16) but by a value (hex number) that is recalculated every 2016 blocks (in bitcoin). Update your code to include a target difficulty value such that:\n",
    "```python\n",
    "if hash < target: block_found = True\n",
    "```\n",
    "2. Write a script to modify the difficulty every time a block is found faster than expected (increase difficulty) and readjusts if a block is found slower than expected (decrease difficulty).\n",
    "3. Calculate the hashpower of your PC and estimate how long it would take to find a block in the present-day bitcoin network."
   ]
  }
 ],
 "metadata": {
  "celltoolbar": "Raw Cell Format",
  "kernelspec": {
   "display_name": "Python 3",
   "language": "python",
   "name": "python3"
  },
  "language_info": {
   "codemirror_mode": {
    "name": "ipython",
    "version": 3
   },
   "file_extension": ".py",
   "mimetype": "text/x-python",
   "name": "python",
   "nbconvert_exporter": "python",
   "pygments_lexer": "ipython3",
   "version": "3.6.5"
  }
 },
 "nbformat": 4,
 "nbformat_minor": 2
}
