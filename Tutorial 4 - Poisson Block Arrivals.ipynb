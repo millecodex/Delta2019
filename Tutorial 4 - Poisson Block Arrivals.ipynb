{
  "nbformat": 4,
  "nbformat_minor": 0,
  "metadata": {
    "colab": {
      "name": "BlockchainPoisson.ipynb",
      "provenance": []
    },
    "kernelspec": {
      "name": "python3",
      "display_name": "Python 3"
    }
  },
  "cells": [
    {
      "cell_type": "markdown",
      "metadata": {
        "id": "qnCEr0D_AHB8",
        "colab_type": "text"
      },
      "source": [
        "Messing about with block intervals in a proof of work style blockchain.\n",
        "\n",
        "Dependencies:  \n",
        "\n",
        "*   this file (*.ipynb) is a jupyter notebook file and can be run using\n",
        "*   http://colab.research.google.com (meshes with your google account) or by using \n",
        "*   anaconda/jupyter software (installed on AUT computers) which runs through a local web server\n",
        "*   https://mybinder.org >> Turn a Git repo into a collection of interactive notebooks\n",
        "\n",
        "The Poisson Process is a model for events (discrete) that occur at a known average interval at random individual occurances; stochastic timing.\n",
        "\n",
        "Examples: asteroid strikes, block arrival times (kinda), bus arrival times (kinda), patient arrivals in the ER\n",
        "\n",
        "The Poisson distribution (Probability mass function) determines the probability of a number of events occuring within an interval:\n",
        "$$ P(k\\text{ events})=e^{-\\lambda}\\frac{\\lambda^k}{k!}$$\n",
        "Where $\\lambda$ is the rate parameter, i.e. 10 blocks per hour.\n",
        "\n",
        "\n"
      ]
    },
    {
      "cell_type": "code",
      "metadata": {
        "id": "klfSCgWdAVjk",
        "colab_type": "code",
        "colab": {
          "base_uri": "https://localhost:8080/",
          "height": 17
        },
        "outputId": "5cc8cc5a-6574-4217-bf9c-224b0bcdceb2"
      },
      "source": [
        "# standard data science\n",
        "import pandas as pd\n",
        "import numpy as np\n",
        "\n",
        "# plotting stuff (interactive)\n",
        "# (might not need this stuff)\n",
        "# plotly deprecated; now chart_studio\n",
        "import chart_studio.plotly as py\n",
        "import chart_studio.grid_objs as go\n",
        "# plotly offline still works\n",
        "from plotly.offline import iplot, init_notebook_mode \n",
        "init_notebook_mode(connected=True)\n",
        "\n",
        "import cufflinks as cf \n",
        "cf.go_offline(connected=True)\n",
        "cf.set_config_file(theme='pearl')\n",
        "\n",
        "# factorial is never a standard operator!\n",
        "from scipy.special import factorial\n",
        "\n",
        "# read in some block data\n"
      ],
      "execution_count": 8,
      "outputs": [
        {
          "output_type": "display_data",
          "data": {
            "text/html": [
              "        <script type=\"text/javascript\">\n",
              "        window.PlotlyConfig = {MathJaxConfig: 'local'};\n",
              "        if (window.MathJax) {MathJax.Hub.Config({SVG: {font: \"STIX-Web\"}});}\n",
              "        if (typeof require !== 'undefined') {\n",
              "        require.undef(\"plotly\");\n",
              "        requirejs.config({\n",
              "            paths: {\n",
              "                'plotly': ['https://cdn.plot.ly/plotly-latest.min']\n",
              "            }\n",
              "        });\n",
              "        require(['plotly'], function(Plotly) {\n",
              "            window._Plotly = Plotly;\n",
              "        });\n",
              "        }\n",
              "        </script>\n",
              "        "
            ]
          },
          "metadata": {
            "tags": []
          }
        },
        {
          "output_type": "display_data",
          "data": {
            "text/html": [
              "        <script type=\"text/javascript\">\n",
              "        window.PlotlyConfig = {MathJaxConfig: 'local'};\n",
              "        if (window.MathJax) {MathJax.Hub.Config({SVG: {font: \"STIX-Web\"}});}\n",
              "        if (typeof require !== 'undefined') {\n",
              "        require.undef(\"plotly\");\n",
              "        requirejs.config({\n",
              "            paths: {\n",
              "                'plotly': ['https://cdn.plot.ly/plotly-latest.min']\n",
              "            }\n",
              "        });\n",
              "        require(['plotly'], function(Plotly) {\n",
              "            window._Plotly = Plotly;\n",
              "        });\n",
              "        }\n",
              "        </script>\n",
              "        "
            ]
          },
          "metadata": {
            "tags": []
          }
        }
      ]
    }
  ]
}